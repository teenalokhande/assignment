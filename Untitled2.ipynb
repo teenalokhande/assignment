{
  "nbformat": 4,
  "nbformat_minor": 0,
  "metadata": {
    "colab": {
      "provenance": []
    },
    "kernelspec": {
      "name": "python3",
      "display_name": "Python 3"
    },
    "language_info": {
      "name": "python"
    }
  },
  "cells": [
    {
      "cell_type": "markdown",
      "source": [
        "1) What is the difference between a function and a method in Python?\n",
        "\n",
        "--> Function: A block of reusable code that can be called anywhere in a program. It works independently of objects. Example:\n",
        "\n",
        "Method: A function that belongs to an object (usually inside a class). It can access the data within the object. Example:\n",
        "       \n",
        "The dif\n",
        "ference: Functions are called directly, while methods are called on objects (e.g., person.greet())."
      ],
      "metadata": {
        "id": "tBgpUbCoo00o"
      }
    },
    {
      "cell_type": "code",
      "source": [
        "# function\n",
        "def greet():\n",
        "    return \"Hello\""
      ],
      "metadata": {
        "id": "_I8A6HpUpG_5"
      },
      "execution_count": null,
      "outputs": []
    },
    {
      "cell_type": "code",
      "source": [
        "#method\n",
        "class Person:\n",
        "    def greet(self):\n",
        "        return \"Hello\""
      ],
      "metadata": {
        "id": "I8ASR_t2pJfE"
      },
      "execution_count": null,
      "outputs": []
    },
    {
      "cell_type": "markdown",
      "source": [
        "2. Explain the concept of function arguments and parameters in Python.\n",
        "\n",
        "--> Parameters are the variables you see in the function definition.In Python, **parameters** and **arguments** are terms related to functions. A **parameter** is a variable in the function definition that acts as a placeholder for the value that will be passed when the function is called. For example, in the function `def add(a, b):`, `a` and `b` are parameters. They are like empty containers waiting to hold values. When you actually call a function and provide specific values, those values are called **arguments**. For instance, in `add(5, 3)`, `5` and `3` are arguments that get passed into the parameters `a` and `b`. So, parameters define what kind of data the function can expect, while arguments are the actual data you send into the function to perform its operations.\n"
      ],
      "metadata": {
        "id": "t7u_GLc2pX_-"
      }
    },
    {
      "cell_type": "code",
      "source": [
        "#parameters\n",
        "def add(a, b):\n",
        "    return a + b"
      ],
      "metadata": {
        "id": "z4r-D_jnphG_"
      },
      "execution_count": 2,
      "outputs": []
    },
    {
      "cell_type": "markdown",
      "source": [
        " 3. What are the different ways to define and call a function in Python?\n",
        "\n",
        " --> 1. Regular Function Definition and Call:\n",
        "Defining: Use the def keyword followed by the function name and parameters.\n",
        "Calling: Simply use the function name followed by parentheses."
      ],
      "metadata": {
        "id": "dtMgxx1Wqc5t"
      }
    },
    {
      "cell_type": "code",
      "source": [
        "\n",
        "def greet():\n",
        "    return \"Hello, World!\"\n",
        "\n",
        "print(greet())\n"
      ],
      "metadata": {
        "id": "-mrYUdOIqsfR"
      },
      "execution_count": null,
      "outputs": []
    },
    {
      "cell_type": "markdown",
      "source": [
        "2. Function with Parameters:\n",
        "You can define a function that takes parameters (inputs)."
      ],
      "metadata": {
        "id": "76hQjqXKqx7z"
      }
    },
    {
      "cell_type": "code",
      "source": [
        "\n",
        "def add(a, b):\n",
        "    return a + b\n",
        "print(add(3, 4))\n"
      ],
      "metadata": {
        "colab": {
          "base_uri": "https://localhost:8080/"
        },
        "id": "_a0F9l_Pq2Ci",
        "outputId": "bda3db4c-e6a6-4bf4-8716-525e3b40b1b2"
      },
      "execution_count": 4,
      "outputs": [
        {
          "output_type": "stream",
          "name": "stdout",
          "text": [
            "7\n"
          ]
        }
      ]
    },
    {
      "cell_type": "markdown",
      "source": [
        " 4. What is the purpose of the return statement in a Python function?\n",
        "\n",
        " --> The return statement ends the function and gives back a result. Without return, the function will return None by default."
      ],
      "metadata": {
        "id": "sE8-dnV4rU1R"
      }
    },
    {
      "cell_type": "code",
      "source": [
        "def multiply(a, b):\n",
        "    return a * b\n",
        "result = multiply(3, 4)\n"
      ],
      "metadata": {
        "id": "SeLrsl8NraKX"
      },
      "execution_count": null,
      "outputs": []
    },
    {
      "cell_type": "markdown",
      "source": [
        " 5. What are iterators in Python and how do they differ from iterables?\n",
        "\n",
        " --> Iterable: Any object that you can loop over (e.g., lists, tuples).\n",
        "Iterator: An object that keeps track of where it is during a loop. You can create an iterator from an iterable using iter()."
      ],
      "metadata": {
        "id": "0pC4iaI6rcl-"
      }
    },
    {
      "cell_type": "code",
      "source": [
        "my_list = [1, 2, 3]\n",
        "iterator = iter(my_list)\n",
        "next(iterator)\n",
        "next(iterator)\n"
      ],
      "metadata": {
        "colab": {
          "base_uri": "https://localhost:8080/"
        },
        "id": "O6DiUBAVrp6k",
        "outputId": "b7a58cb9-9e67-4e30-8da8-f916d5574de2"
      },
      "execution_count": 5,
      "outputs": [
        {
          "output_type": "execute_result",
          "data": {
            "text/plain": [
              "2"
            ]
          },
          "metadata": {},
          "execution_count": 5
        }
      ]
    },
    {
      "cell_type": "markdown",
      "source": [
        "6. Explain the concept of generators in Python and how they are defined.\n",
        "\n",
        "--> A generator is a special type of iterator that is created using a function and yield. Generators are used to generate values one at a time and only when needed.When you call count_up_to(3), it doesn’t give all values at once but gives them one by one as you ask for them."
      ],
      "metadata": {
        "id": "5zaZOdHsrvYE"
      }
    },
    {
      "cell_type": "code",
      "source": [
        "def count_up_to(n):\n",
        "    i = 1\n",
        "    while i <= n:\n",
        "        yield i\n",
        "        i += 1\n"
      ],
      "metadata": {
        "id": "RjRGZehAr28m"
      },
      "execution_count": null,
      "outputs": []
    },
    {
      "cell_type": "markdown",
      "source": [
        "7. What are the advantages of using generators over regular functions?\n",
        "\n",
        "--> Memory Efficient: Generators don't store all the values in memory. Instead, they generate values on the fly.\n",
        "Faster Execution: Since they don't need to load all the data at once, they can be quicker, especially with large datasets.Generators in Python are particularly memory efficient because they don’t store all values in memory at once. Instead, they produce values on the fly, meaning they only compute the next value when it’s requested. This contrasts with regular functions that generate and store all values in a list or another data structure, which can take up significant memory, especially for large datasets."
      ],
      "metadata": {
        "id": "cwCsjBU6r46q"
      }
    },
    {
      "cell_type": "markdown",
      "source": [
        " 8. What is a lambda function in Python and when is it typically used?\n",
        "\n",
        " -->A lambda function is a small, anonymous function that you can define in one line. They are typically used when you need a simple function for a short period."
      ],
      "metadata": {
        "id": "RgJUIfJasH4p"
      }
    },
    {
      "cell_type": "code",
      "source": [
        "\n",
        "def add(x, y):\n",
        "    return x + y\n",
        "\n",
        "\n",
        "add = lambda x, y: x + y\n",
        "print(add(5, 3))\n"
      ],
      "metadata": {
        "id": "pBYIDXv0sP9x"
      },
      "execution_count": null,
      "outputs": []
    },
    {
      "cell_type": "markdown",
      "source": [
        " 9. Explain the purpose and usage of the map() function in Python.\n",
        "\n",
        " --> The map() function applies a given function to every item in an iterable (like a list) and returns a map object."
      ],
      "metadata": {
        "id": "xGETAUbTsS_F"
      }
    },
    {
      "cell_type": "markdown",
      "source": [
        "Purpose:\n",
        "Transforms data: map() allows you to efficiently transform each element in an iterable based on a function.\n",
        "Cleaner code: It replaces the need for explicit loops in many cases, making code more concise and readable.\n",
        "Non-destructive: It doesn't modify the original iterable; it produces a new map object with the results."
      ],
      "metadata": {
        "id": "cSAf3iz4syaI"
      }
    },
    {
      "cell_type": "code",
      "source": [
        "numbers = [1, 2, 3, 4]\n",
        "doubled = map(lambda x: x * 2, numbers)\n",
        "print(list(doubled))\n"
      ],
      "metadata": {
        "id": "6WRdsgo6sa8w"
      },
      "execution_count": null,
      "outputs": []
    },
    {
      "cell_type": "markdown",
      "source": [
        "10. What is the difference between map(), reduce(), and filter() functions in Python?\n",
        " list:[47,11,42,13];\n",
        "\n",
        " --> map(): Applies a function to every item in an iterable"
      ],
      "metadata": {
        "id": "JEJEtU6Qs0Wo"
      }
    },
    {
      "cell_type": "code",
      "source": [
        "result = map(lambda x: x * 2, [1, 2, 3])\n",
        "print(list(result))"
      ],
      "metadata": {
        "colab": {
          "base_uri": "https://localhost:8080/"
        },
        "id": "kunTAld4tDBM",
        "outputId": "97b4cadf-0102-4bda-9a4e-97a3d7ff1716"
      },
      "execution_count": 9,
      "outputs": [
        {
          "output_type": "stream",
          "name": "stdout",
          "text": [
            "[2, 4, 6]\n"
          ]
        }
      ]
    },
    {
      "cell_type": "markdown",
      "source": [
        "filter(): Filters items in an iterable based on a condition."
      ],
      "metadata": {
        "id": "8TCsoKgYtfFv"
      }
    },
    {
      "cell_type": "code",
      "source": [
        "result = filter(lambda x: x > 2, [1, 2, 3])\n",
        "print(list(result))"
      ],
      "metadata": {
        "colab": {
          "base_uri": "https://localhost:8080/"
        },
        "id": "6H3dVEFWtiMX",
        "outputId": "a24def27-f7aa-4041-f543-757443a75eeb"
      },
      "execution_count": 10,
      "outputs": [
        {
          "output_type": "stream",
          "name": "stdout",
          "text": [
            "[3]\n"
          ]
        }
      ]
    },
    {
      "cell_type": "markdown",
      "source": [
        "reduce(): Reduces an iterable to a single value by applying a function cumulatively"
      ],
      "metadata": {
        "id": "iy227LW_tsoO"
      }
    },
    {
      "cell_type": "code",
      "source": [
        "from functools import reduce\n",
        "reduce(lambda x, y: x + y, [1, 2, 3, 4])"
      ],
      "metadata": {
        "colab": {
          "base_uri": "https://localhost:8080/"
        },
        "id": "D3YIlNLqtvMg",
        "outputId": "7aae21f2-2674-4ccb-c2e7-d738d43f673b"
      },
      "execution_count": 11,
      "outputs": [
        {
          "output_type": "execute_result",
          "data": {
            "text/plain": [
              "10"
            ]
          },
          "metadata": {},
          "execution_count": 11
        }
      ]
    },
    {
      "cell_type": "markdown",
      "source": [
        "11. Using pen & Paper write the internal mechanism for sum operation using  reduce function on this given\n",
        "\n",
        "--> To sum the list [47, 11, 42, 13] using reduce(), follow these steps:\n",
        "\n",
        "Start with the first two elements: 47 + 11 = 58\n",
        "Then add the result to the next element: 58 + 42 = 100\n",
        "Finally, add that result to the last element: 100 + 13 = 113\n",
        "The final sum is 113."
      ],
      "metadata": {
        "id": "s-PdP72pt1hx"
      }
    },
    {
      "cell_type": "code",
      "source": [
        "from functools import reduce\n",
        "numbers = [47, 11, 42, 13]\n",
        "result = reduce(lambda x, y: x + y, numbers)\n",
        "print(result)\n"
      ],
      "metadata": {
        "colab": {
          "base_uri": "https://localhost:8080/"
        },
        "id": "9cEotuINuClD",
        "outputId": "c2385a45-544f-4832-9a3e-2c9e6e432413"
      },
      "execution_count": 12,
      "outputs": [
        {
          "output_type": "stream",
          "name": "stdout",
          "text": [
            "113\n"
          ]
        }
      ]
    }
  ]
}