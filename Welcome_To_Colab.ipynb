{
  "cells": [
    {
      "cell_type": "markdown",
      "source": [
        "Explain the key features of Python that make it a popular choice for programming\n",
        "\n",
        "-->Python is a popular programming language due to its simplicity, readability, and versatility. Its easy-to-understand syntax makes it accessible to beginners, while being an interpreted language allows developers to execute code line by line, simplifying the debugging process. Python is cross-platform, meaning it runs seamlessly on various operating systems like Windows, macOS, and Linux. It also boasts an extensive collection of libraries for web development, data science, machine learning, and more. Python is dynamically typed, meaning variables do not require explicit declarations of data types, and it supports object-oriented programming, offering features like classes and inheritance. A large, active community ensures strong support and a wealth of resources, while Python’s ability to integrate with other languages and platforms enhances its flexibility. Its portability allows code to be written once and executed across different environments.\n",
        "\n"
      ],
      "metadata": {
        "id": "le3qpxJPxoQB"
      }
    },
    {
      "cell_type": "markdown",
      "source": [
        " Describe the role of predefined keywords in Python and provide examples of how they are used in a\n",
        "program\n",
        "\n",
        "--> In Python, predefined keywords are reserved words that have specific meanings and cannot be used for any other purpose, such as naming variables or functions. These keywords define the syntax and structure of the language and are essential for writing Python code.\n",
        "\n",
        "For example:\n",
        "1. if, elif, else : These keywords are used to define conditional statements.\n",
        "   ``` python\n",
        "   if x > 10:\n",
        "       print(\"x is greater than 10\")\n",
        "   elif x == 10:\n",
        "       print(\"x is 10\")\n",
        "   else:\n",
        "       print(\"x is less than 10\")\n",
        "   ```\n",
        "\n",
        "2. for, while : These are used to create loops for iteration.\n",
        "   ```python\n",
        "   for i in range(5):\n",
        "       print(i)\n",
        "\n",
        "   while x < 10:\n",
        "       x += 1\n",
        "   ```\n",
        "\n",
        "3. def : This keyword is used to define a function.\n",
        "   ```python\n",
        "   def greet():\n",
        "       print(\"Hello, World!\")\n",
        "   ```\n",
        "\n",
        "4. class : It is used to define a class in object-oriented programming.\n",
        "   ```python\n",
        "   class Dog:\n",
        "       def __init__(self, name):\n",
        "           self.name = name\n",
        "   ```\n",
        "\n",
        "5. import : This keyword imports libraries or modules.\n",
        "   ```python\n",
        "   import math\n",
        "   print(math.sqrt(16))\n",
        "   ```\n",
        "\n",
        "Predefined keywords form the building blocks of Python programs and are crucial for structuring and controlling the flow of the code."
      ],
      "metadata": {
        "id": "CzrvcKhZyb51"
      }
    },
    {
      "cell_type": "markdown",
      "source": [
        "Compare and contrast mutable and immutable objects in Python with examples\n",
        "\n",
        "--> In Python, objects can be classified as either mutable or immutable based on whether their state can be changed after they are created.\n",
        "\n",
        "Mutable Objects:\n",
        "Mutable objects can be modified after they are created. This means that the contents of the object can be altered, but the object itself remains the same in memory.\n",
        "\n",
        "for example :- LIST\n",
        "    \n",
        "    my_list = [1, 2, 3]\n",
        "    my_list[0] = 10   element\n",
        "    print(my_list)    # Output: [10, 2, 3]\n",
        "   \n",
        "Immutable Objects:\n",
        "Immutable objects, once created, cannot be modified. Any attempt to change the object's content will result in the creation of a new object.\n",
        "\n",
        "Examples: String:\n",
        "\n",
        "    my_string = \"hello\"\n",
        "    my_string[0] = \"H\"  # This will raise an error as strings are immutable\n",
        "    my_string = \"Hello\"  # A new string is created\n",
        "    \n"
      ],
      "metadata": {
        "id": "6by288h8zT4R"
      }
    },
    {
      "cell_type": "markdown",
      "source": [
        " Discuss the different types of operators in Python and provide examples of how they are used\n",
        "\n",
        " --> there are some important types od operators shown below:"
      ],
      "metadata": {
        "id": "vSu9zJhu0aHr"
      }
    },
    {
      "cell_type": "code",
      "source": [
        "#1. Arithmetic Operators:\n",
        "# These are used to perform basic mathematical operations like addition,\n",
        "# subtraction, multiplication, etc.\n",
        "a = 10\n",
        "b = 5\n",
        "print(a + b)   # Addition: 15\n",
        "print(a - b)   # Subtraction: 5\n",
        "print(a * b)   # Multiplication: 50\n",
        "print(a / b)   # Division: 2.0\n",
        "print(a % b)   # Modulus: 0\n",
        "print(a ** b)  # Exponentiation: 100000\n",
        "print(a // b)  # Floor division: 2\n",
        "\n"
      ],
      "metadata": {
        "colab": {
          "base_uri": "https://localhost:8080/"
        },
        "id": "lLaQZAZZ0oHp",
        "outputId": "55ec1495-488e-481d-8f8f-a5bb44dc7a39"
      },
      "execution_count": 2,
      "outputs": [
        {
          "output_type": "stream",
          "name": "stdout",
          "text": [
            "15\n",
            "5\n",
            "50\n",
            "2.0\n",
            "0\n",
            "100000\n",
            "2\n"
          ]
        }
      ]
    },
    {
      "cell_type": "code",
      "source": [
        "#2. Comparison (Relational) Operators:\n",
        "#These operators are used to compare two values, and they return a boolean result (True or False).\n",
        "\n",
        "x = 10\n",
        "y = 5\n",
        "print(x > y)   # Greater than: True\n",
        "print(x < y)   # Less than: False\n",
        "print(x == y)  # Equal to: False\n",
        "print(x != y)  # Not equal to: True\n",
        "print(x >= y)  # Greater than or equal to: True\n",
        "print(x <= y)  # Less than or equal to: False"
      ],
      "metadata": {
        "colab": {
          "base_uri": "https://localhost:8080/"
        },
        "id": "LdPC21nM00dL",
        "outputId": "8a35a28e-c212-48ea-807b-d72299dc7ed1"
      },
      "execution_count": 3,
      "outputs": [
        {
          "output_type": "stream",
          "name": "stdout",
          "text": [
            "True\n",
            "False\n",
            "False\n",
            "True\n",
            "True\n",
            "False\n"
          ]
        }
      ]
    },
    {
      "cell_type": "code",
      "source": [
        "# 3. Logical Operators: Logical operators are used to combine conditional\n",
        "# statements. The results are based on logical reasoning, returning True or\n",
        "# False.\n",
        "\n",
        "\n",
        "x = True\n",
        "y = False\n",
        "print(x and y)  # Logical AND: False\n",
        "print(x or y)   # Logical OR: True\n",
        "print(not x)    # Logical NOT: False"
      ],
      "metadata": {
        "colab": {
          "base_uri": "https://localhost:8080/"
        },
        "id": "uYBPgrXt1GM1",
        "outputId": "4b48128c-1f01-449a-9d75-cabe3de7eae0"
      },
      "execution_count": 4,
      "outputs": [
        {
          "output_type": "stream",
          "name": "stdout",
          "text": [
            "False\n",
            "True\n",
            "False\n"
          ]
        }
      ]
    },
    {
      "cell_type": "markdown",
      "source": [
        " Explain the concept of type casting in Python with examples\n",
        "\n",
        " --> Type casting in Python is converting one data type to another. It can be:"
      ],
      "metadata": {
        "id": "pTnThXbZ1mNk"
      }
    },
    {
      "cell_type": "code",
      "source": [
        "#Implicit Type Casting: Python automatically converts smaller data types to larger ones.\n",
        "a = 5\n",
        "b = 2.5\n",
        "result = a + b  # a becomes float\n",
        "print(result)\n",
        "type(result)"
      ],
      "metadata": {
        "colab": {
          "base_uri": "https://localhost:8080/"
        },
        "id": "8NoDTuF12HTQ",
        "outputId": "da4e70f6-712d-4e96-ac90-9cffa8acb3c4"
      },
      "execution_count": 5,
      "outputs": [
        {
          "output_type": "stream",
          "name": "stdout",
          "text": [
            "7.5\n"
          ]
        },
        {
          "output_type": "execute_result",
          "data": {
            "text/plain": [
              "float"
            ]
          },
          "metadata": {},
          "execution_count": 5
        }
      ]
    },
    {
      "cell_type": "code",
      "source": [
        "#Explicit Type Casting: The user manually converts types using functions like int(), float(), and str().\n",
        "\n",
        "x = \"10\"\n",
        "y = int(x)  # Convert string to int\n",
        "print(y)\n",
        "type(y)\n"
      ],
      "metadata": {
        "colab": {
          "base_uri": "https://localhost:8080/"
        },
        "id": "H7n5fr7g2bn-",
        "outputId": "bbab815f-3a09-43fe-edda-c021fa3732ab"
      },
      "execution_count": 6,
      "outputs": [
        {
          "output_type": "stream",
          "name": "stdout",
          "text": [
            "10\n"
          ]
        },
        {
          "output_type": "execute_result",
          "data": {
            "text/plain": [
              "int"
            ]
          },
          "metadata": {},
          "execution_count": 6
        }
      ]
    },
    {
      "cell_type": "markdown",
      "source": [
        " How do conditional statements work in Python? Illustrate with examples\n",
        "\n",
        " -->"
      ],
      "metadata": {
        "id": "o-f4YpF52rtr"
      }
    },
    {
      "cell_type": "code",
      "source": [
        "#In Python, conditional statements control the flow of code based on certain conditions. The most common conditional statements are `if`, `elif`, and `else`.\n",
        "\n",
        "### Syntax:\n",
        "# ```python if condition: Block of code to execute if condition is True elif\n",
        "# another_condition: Block of code to execute if the previous condition is False\n",
        "# and this one is True else: Block of code to execute if all conditions are\n",
        "# False\n",
        "\n",
        "\n",
        "### Example:\n",
        "\n",
        "x = 10\n",
        "\n",
        "if x > 10:\n",
        "    print(\"x is greater than 10\")\n",
        "elif x == 10:\n",
        "    print(\"x is equal to 10\")\n",
        "else:\n",
        "    print(\"x is less than 10\")\n",
        "\n"
      ],
      "metadata": {
        "colab": {
          "base_uri": "https://localhost:8080/"
        },
        "id": "FKgHy_9m25mQ",
        "outputId": "d3b36b51-18c5-41f9-e428-bd2596d9df76"
      },
      "execution_count": 8,
      "outputs": [
        {
          "output_type": "stream",
          "name": "stdout",
          "text": [
            "x is equal to 10\n"
          ]
        }
      ]
    },
    {
      "cell_type": "markdown",
      "source": [
        " Describe the different types of loops in Python and their use cases with examples.\n",
        "\n",
        " -->\n",
        "\n"
      ],
      "metadata": {
        "id": "_Okq50JW3bYu"
      }
    },
    {
      "cell_type": "code",
      "source": [
        "#In Python, there are two main types of loops: `for` loops and `while` loops. Both are used for iterating over sequences or repeatedly executing code based on conditions.\n",
        "\n",
        "### 1. **`for` Loop**\n",
        "# A `for` loop is used to iterate over a sequence (like a list, tuple, or\n",
        "# string) or range of values.\n",
        "\n",
        "#### Iterating over a fixed number of elements, like in lists or ranges.\n",
        "\n",
        "#### Example:\n",
        "\n",
        "fruits = [\"apple\", \"banana\", \"cherry\"]\n",
        "\n",
        "for fruit in fruits:\n",
        "    print(fruit)\n",
        "\n",
        "\n"
      ],
      "metadata": {
        "colab": {
          "base_uri": "https://localhost:8080/"
        },
        "id": "AUEC69Px3vec",
        "outputId": "5616be9d-6531-41a6-b634-96a4b7c26a58"
      },
      "execution_count": 10,
      "outputs": [
        {
          "output_type": "stream",
          "name": "stdout",
          "text": [
            "apple\n",
            "banana\n",
            "cherry\n"
          ]
        }
      ]
    },
    {
      "cell_type": "code",
      "source": [
        "### 2. **`while` Loop**\n",
        "#A `while` loop continues executing a block of code as long as a condition is `True`.\n",
        "\n",
        "#### Use Case:  When the number of iterations isn't known in advance, and looping should continue until a certain condition is met.\n",
        "\n",
        "#### Example:\n",
        "\n",
        "count = 1\n",
        "\n",
        "while count <= 3:\n",
        "    print(\"Count:\", count)\n",
        "    count += 1\n"
      ],
      "metadata": {
        "colab": {
          "base_uri": "https://localhost:8080/"
        },
        "id": "rPbw_R8T4N4R",
        "outputId": "ee1b0167-3469-4cc2-be8d-0bb035dfa41e"
      },
      "execution_count": 11,
      "outputs": [
        {
          "output_type": "stream",
          "name": "stdout",
          "text": [
            "Count: 1\n",
            "Count: 2\n",
            "Count: 3\n"
          ]
        }
      ]
    },
    {
      "cell_type": "code",
      "source": [
        "### 3. break: Exits the loop prematurely.\n",
        " #continue`: Skips the current iteration and continues with the next.\n",
        "\n",
        "#### Example:\n",
        "\n",
        "for i in range(5):\n",
        "    if i == 3:\n",
        "        break  # Exit loop when i is 3\n",
        "    print(i)"
      ],
      "metadata": {
        "colab": {
          "base_uri": "https://localhost:8080/"
        },
        "id": "L8Ecmep84RMV",
        "outputId": "52b57c1d-abc4-4518-b758-f5edbe3b4204"
      },
      "execution_count": 12,
      "outputs": [
        {
          "output_type": "stream",
          "name": "stdout",
          "text": [
            "0\n",
            "1\n",
            "2\n"
          ]
        }
      ]
    }
  ],
  "metadata": {
    "colab": {
      "name": "Welcome To Colab",
      "provenance": []
    },
    "kernelspec": {
      "display_name": "Python 3",
      "name": "python3"
    }
  },
  "nbformat": 4,
  "nbformat_minor": 0
}