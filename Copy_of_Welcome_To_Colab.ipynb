{
  "cells": [
    {
      "cell_type": "markdown",
      "source": [
        "1) Discuss string slicing and provide examples\n",
        "\n",
        "--> String slicing is like cutting out a specific part of a string (which is just a collection of characters, like a word or sentence).\n",
        "\n"
      ],
      "metadata": {
        "id": "AJQc-83ea79E"
      }
    },
    {
      "cell_type": "code",
      "source": [
        "word = \"Hello\"\n"
      ],
      "metadata": {
        "id": "rxp15aD5bBFQ"
      },
      "execution_count": null,
      "outputs": []
    },
    {
      "cell_type": "code",
      "source": [
        "slice = word[0:3]\n",
        "print(slice)\n",
        "#You can slice any part by giving the start and end index like this: word[start:end]."
      ],
      "metadata": {
        "id": "eQA6UxfUbPKV",
        "outputId": "7e35acb5-3746-4622-b11b-a4cc818fd050",
        "colab": {
          "base_uri": "https://localhost:8080/"
        }
      },
      "execution_count": null,
      "outputs": [
        {
          "output_type": "stream",
          "name": "stdout",
          "text": [
            "Hel\n"
          ]
        }
      ]
    },
    {
      "cell_type": "markdown",
      "source": [
        "2) Explain the key features of lists in Python\n",
        "\n",
        "-->A list is like a collection of items where you can store many things (numbers, words, etc.). It’s like a bag where you can keep adding, removing, or changing things.\n",
        "\n",
        "Lists are ordered: The items stay in the order you put them in.\n",
        "Lists are changeable (mutable): You can modify them, like changing or adding items.\n",
        "Lists can store different types of data: You can mix numbers, strings, etc."
      ],
      "metadata": {
        "id": "QTzdmQJEbZch"
      }
    },
    {
      "cell_type": "code",
      "source": [
        "my_list = [1, \"apple\", 3.14, \"banana\"]\n",
        "fruits = [\"apple\", \"banana\", \"cherry\"]\n",
        "print(fruits[1])"
      ],
      "metadata": {
        "id": "tGLJxnuZbjqX",
        "outputId": "45337991-5533-4bae-ebfa-9cf4b80e61b9",
        "colab": {
          "base_uri": "https://localhost:8080/"
        }
      },
      "execution_count": null,
      "outputs": [
        {
          "output_type": "stream",
          "name": "stdout",
          "text": [
            "banana\n"
          ]
        }
      ]
    },
    {
      "cell_type": "markdown",
      "source": [
        "3) Describe how to access, modify, and delete elements in a list with examples\n",
        "\n",
        "--> Accessing elements:\n",
        "You can get an item from a list using its position (index), like looking inside a specific bag:\n",
        "\n"
      ],
      "metadata": {
        "id": "-wWHWKY5bqP8"
      }
    },
    {
      "cell_type": "code",
      "source": [
        "fruits = [\"apple\", \"banana\", \"cherry\"]\n",
        "print(fruits[1])"
      ],
      "metadata": {
        "id": "7rZvHwgFb2JI",
        "outputId": "ea1d28ae-f89a-4723-abb9-1e1a946cd32f",
        "colab": {
          "base_uri": "https://localhost:8080/"
        }
      },
      "execution_count": null,
      "outputs": [
        {
          "output_type": "stream",
          "name": "stdout",
          "text": [
            "banana\n"
          ]
        }
      ]
    },
    {
      "cell_type": "markdown",
      "source": [
        "Modifying elements:\n",
        "You can change any item:"
      ],
      "metadata": {
        "id": "gfWAJozKb0uR"
      }
    },
    {
      "cell_type": "code",
      "source": [
        "fruits[0] = \"mango\"\n",
        "print(fruits)\n"
      ],
      "metadata": {
        "id": "b6f1KLNEb88g",
        "outputId": "dbe4bc78-e189-4d92-fdde-40be6507da1f",
        "colab": {
          "base_uri": "https://localhost:8080/"
        }
      },
      "execution_count": null,
      "outputs": [
        {
          "output_type": "stream",
          "name": "stdout",
          "text": [
            "['mango', 'banana', 'cherry']\n"
          ]
        }
      ]
    },
    {
      "cell_type": "markdown",
      "source": [
        "Deleting elements:\n",
        "You can remove an item in different ways:\n",
        "Use del to delete by index:\n"
      ],
      "metadata": {
        "id": "BGA0xqBCcAlT"
      }
    },
    {
      "cell_type": "code",
      "source": [
        "del fruits[1]\n",
        "print(fruits)  # Output: ['mango', 'cherry']\n"
      ],
      "metadata": {
        "id": "G_HPN0B9cAbr",
        "outputId": "57844730-71e2-4ec3-a3b0-c5d4f020738b",
        "colab": {
          "base_uri": "https://localhost:8080/"
        }
      },
      "execution_count": null,
      "outputs": [
        {
          "output_type": "stream",
          "name": "stdout",
          "text": [
            "['mango']\n"
          ]
        }
      ]
    },
    {
      "cell_type": "code",
      "source": [
        "#Use .remove() to delete by value\n",
        "fruits.remove(\"cherry\")\n",
        "print(fruits)\n"
      ],
      "metadata": {
        "id": "pSHI5cPicLxF",
        "outputId": "40ad78c0-6f6f-43bd-daa6-c872bf68ff1e",
        "colab": {
          "base_uri": "https://localhost:8080/"
        }
      },
      "execution_count": null,
      "outputs": [
        {
          "output_type": "stream",
          "name": "stdout",
          "text": [
            "['mango', 'banana']\n"
          ]
        }
      ]
    },
    {
      "cell_type": "markdown",
      "source": [
        " 4) Compare and contrast tuples and lists with examples\n",
        "\n",
        " --> Tuples and lists are both used to store collections of items, but they have some differences.\n",
        "\n",
        "Lists:\n",
        "Mutable (changeable): You can add, remove, or change items.\n",
        "Syntax: Written using square brackets [].\n",
        "\n"
      ],
      "metadata": {
        "id": "4CY3Re64cVyo"
      }
    },
    {
      "cell_type": "code",
      "source": [
        "my_list = [1, 2, 3]\n",
        "my_list[0] = 10  # Now it's [10, 2, 3]\n"
      ],
      "metadata": {
        "id": "b8l3V1e_cVcx"
      },
      "execution_count": null,
      "outputs": []
    },
    {
      "cell_type": "markdown",
      "source": [
        "Tuples:\n",
        "Immutable (unchangeable): Once you create a tuple, you can't change it.\n",
        "Syntax: Written using parentheses ()."
      ],
      "metadata": {
        "id": "yxSbzK4wcltz"
      }
    },
    {
      "cell_type": "code",
      "source": [
        "my_tuple = (1, 2, 3)"
      ],
      "metadata": {
        "id": "K7drjZpzcVi9"
      },
      "execution_count": null,
      "outputs": []
    },
    {
      "cell_type": "markdown",
      "source": [
        " 5) Describe the key features of sets and provide examples of their use\n",
        "\n",
        " -->A set is like a collection of unique items (it doesn’t allow duplicates), and it’s unordered.\n",
        " Unordered: The items don't have a specific order.\n",
        "No duplicates: It automatically removes any repeated values.\n",
        "Useful for: Checking if something exists in a collection or removing duplicates."
      ],
      "metadata": {
        "id": "zlNd9gWEcqZu"
      }
    },
    {
      "cell_type": "code",
      "source": [
        "my_set = {1, 2, 3, 1}\n",
        "print(my_set)\n"
      ],
      "metadata": {
        "id": "GdZ9mFalcVj3"
      },
      "execution_count": null,
      "outputs": []
    },
    {
      "cell_type": "markdown",
      "source": [
        "6)  Discuss the use cases of tuples and sets in Python programming\n",
        "\n",
        "--> Use cases for tuples:\n",
        "Tuples are great when you want to store data that shouldn’t change, like coordinates ((x, y)), or the days of the week ((\"Monday\", \"Tuesday\", ...)).\n",
        "Use cases for sets:\n",
        "Sets are great when you need to check membership (like checking if a name is in a group) or when you want to remove duplicates from a list."
      ],
      "metadata": {
        "id": "yrgy2Vpac8pV"
      }
    },
    {
      "cell_type": "markdown",
      "source": [
        "7) Describe how to add, modify, and delete items in a dictionary with examples\n",
        "--> A dictionary is like a real dictionary where each word has a definition. In programming, we call these key-value pairs. The key is like the word, and the value is the definition.\n",
        "\n"
      ],
      "metadata": {
        "id": "hKgZkkrodI5t"
      }
    },
    {
      "cell_type": "code",
      "source": [
        "# adding items\n",
        "my_dict = {\"name\": \"Alice\", \"age\": 25}\n",
        "my_dict[\"city\"] = \"New York\"\n",
        "print(my_dict)\n"
      ],
      "metadata": {
        "id": "GL7ymEx-dcPO",
        "outputId": "fd397c24-709f-46dd-a35a-aca0bd6fcae8",
        "colab": {
          "base_uri": "https://localhost:8080/"
        }
      },
      "execution_count": null,
      "outputs": [
        {
          "output_type": "stream",
          "name": "stdout",
          "text": [
            "{'name': 'Alice', 'age': 25, 'city': 'New York'}\n"
          ]
        }
      ]
    },
    {
      "cell_type": "code",
      "source": [
        "#modifying items\n",
        "my_dict = {\"name\": \"Alice\", \"age\": 25}\n",
        "my_dict[\"age\"] = 26\n",
        "print(my_dict)"
      ],
      "metadata": {
        "id": "N-AxDYEmdmrY",
        "outputId": "ad155700-58c9-4b6a-c29d-9cba53f7a33f",
        "colab": {
          "base_uri": "https://localhost:8080/"
        }
      },
      "execution_count": null,
      "outputs": [
        {
          "output_type": "stream",
          "name": "stdout",
          "text": [
            "{'name': 'Alice', 'age': 26}\n"
          ]
        }
      ]
    },
    {
      "cell_type": "code",
      "source": [
        "# deleting items\n",
        "my_dict = {\"name\": \"Alice\", \"age\": 25}\n",
        "del my_dict[\"name\"]\n",
        "print(my_dict)"
      ],
      "metadata": {
        "id": "cs_952_Xd-Li",
        "outputId": "bb2db56a-0e68-403f-ff1b-f216f7acb2b4",
        "colab": {
          "base_uri": "https://localhost:8080/"
        }
      },
      "execution_count": null,
      "outputs": [
        {
          "output_type": "stream",
          "name": "stdout",
          "text": [
            "{'age': 25}\n"
          ]
        }
      ]
    },
    {
      "cell_type": "markdown",
      "source": [
        "8) Discuss the importance of dictionary keys being immutable and provide examples\n",
        "\n",
        "-->In a dictionary, the keys (the \"words\") must be immutable, which means they can’t change. This is important because dictionaries use these keys to quickly find values, so if the key could change, it would mess up the whole system.\n",
        "Here, the key (\"x\", \"y\") is a tuple, and it can’t change, so it's safe to use in a dictionary.\n",
        "\n",
        "You can’t use a list as a key because lists can change (they're mutable)\n"
      ],
      "metadata": {
        "id": "Ta8V7IR8epTF"
      }
    },
    {
      "cell_type": "code",
      "source": [
        "my_dict = {(\"x\", \"y\"): 10}\n",
        "print(my_dict)"
      ],
      "metadata": {
        "id": "F1EjaqkAe48i",
        "outputId": "68743de8-60e5-45a9-efe2-97eca504c090",
        "colab": {
          "base_uri": "https://localhost:8080/"
        }
      },
      "execution_count": null,
      "outputs": [
        {
          "output_type": "stream",
          "name": "stdout",
          "text": [
            "{('x', 'y'): 10}\n"
          ]
        }
      ]
    },
    {
      "cell_type": "markdown",
      "source": [],
      "metadata": {
        "id": "OYHd9axReeqx"
      }
    }
  ],
  "metadata": {
    "colab": {
      "provenance": []
    },
    "kernelspec": {
      "display_name": "Python 3",
      "name": "python3"
    }
  },
  "nbformat": 4,
  "nbformat_minor": 0
}